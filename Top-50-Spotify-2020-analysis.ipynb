{
 "cells": [
  {
   "cell_type": "markdown",
   "id": "d7ac04a5-b634-46a7-9bf0-591000720e87",
   "metadata": {},
   "source": [
    "# Top 50 Spotify Tracks 2020 data analysis\n",
    "<img src=\"https://upload.wikimedia.org/wikipedia/commons/2/26/Spotify_logo_with_text.svg\" alt=\"Spotify Logo\" width=\"300\">\n",
    "\n",
    "This project involves performing a comprehensive analysis of a Top 50 Spotify Tracks dataset to gain insights about top tracks, artists, albums, genres, and their features such as danceability, loudness, acousticness, and more.\n",
    "The analysis also includes data cleaning, exploratory data analysis (EDA), and feature correlation analysis.\n",
    "Based on analysis results, project will quantify what makes a hit song."
   ]
  },
  {
   "cell_type": "code",
   "execution_count": 3,
   "id": "ee53596c-9c25-495a-ae38-611391119bc5",
   "metadata": {},
   "outputs": [],
   "source": [
    "import pandas as pd"
   ]
  },
  {
   "cell_type": "code",
   "execution_count": 5,
   "id": "0d891088-ed87-4dec-859c-df3307da9be2",
   "metadata": {},
   "outputs": [
    {
     "data": {
      "text/html": [
       "<div>\n",
       "<style scoped>\n",
       "    .dataframe tbody tr th:only-of-type {\n",
       "        vertical-align: middle;\n",
       "    }\n",
       "\n",
       "    .dataframe tbody tr th {\n",
       "        vertical-align: top;\n",
       "    }\n",
       "\n",
       "    .dataframe thead th {\n",
       "        text-align: right;\n",
       "    }\n",
       "</style>\n",
       "<table border=\"1\" class=\"dataframe\">\n",
       "  <thead>\n",
       "    <tr style=\"text-align: right;\">\n",
       "      <th></th>\n",
       "      <th>artist</th>\n",
       "      <th>album</th>\n",
       "      <th>track_name</th>\n",
       "      <th>track_id</th>\n",
       "      <th>energy</th>\n",
       "      <th>danceability</th>\n",
       "      <th>key</th>\n",
       "      <th>loudness</th>\n",
       "      <th>acousticness</th>\n",
       "      <th>speechiness</th>\n",
       "      <th>instrumentalness</th>\n",
       "      <th>liveness</th>\n",
       "      <th>valence</th>\n",
       "      <th>tempo</th>\n",
       "      <th>duration_ms</th>\n",
       "      <th>genre</th>\n",
       "    </tr>\n",
       "  </thead>\n",
       "  <tbody>\n",
       "    <tr>\n",
       "      <th>0</th>\n",
       "      <td>The Weeknd</td>\n",
       "      <td>After Hours</td>\n",
       "      <td>Blinding Lights</td>\n",
       "      <td>0VjIjW4GlUZAMYd2vXMi3b</td>\n",
       "      <td>0.730</td>\n",
       "      <td>0.514</td>\n",
       "      <td>1</td>\n",
       "      <td>-5.934</td>\n",
       "      <td>0.00146</td>\n",
       "      <td>0.0598</td>\n",
       "      <td>0.000095</td>\n",
       "      <td>0.0897</td>\n",
       "      <td>0.334</td>\n",
       "      <td>171.005</td>\n",
       "      <td>200040</td>\n",
       "      <td>R&amp;B/Soul</td>\n",
       "    </tr>\n",
       "    <tr>\n",
       "      <th>1</th>\n",
       "      <td>Tones And I</td>\n",
       "      <td>Dance Monkey</td>\n",
       "      <td>Dance Monkey</td>\n",
       "      <td>1rgnBhdG2JDFTbYkYRZAku</td>\n",
       "      <td>0.593</td>\n",
       "      <td>0.825</td>\n",
       "      <td>6</td>\n",
       "      <td>-6.401</td>\n",
       "      <td>0.68800</td>\n",
       "      <td>0.0988</td>\n",
       "      <td>0.000161</td>\n",
       "      <td>0.1700</td>\n",
       "      <td>0.540</td>\n",
       "      <td>98.078</td>\n",
       "      <td>209755</td>\n",
       "      <td>Alternative/Indie</td>\n",
       "    </tr>\n",
       "    <tr>\n",
       "      <th>2</th>\n",
       "      <td>Roddy Ricch</td>\n",
       "      <td>Please Excuse Me For Being Antisocial</td>\n",
       "      <td>The Box</td>\n",
       "      <td>0nbXyq5TXYPCO7pr3N8S4I</td>\n",
       "      <td>0.586</td>\n",
       "      <td>0.896</td>\n",
       "      <td>10</td>\n",
       "      <td>-6.687</td>\n",
       "      <td>0.10400</td>\n",
       "      <td>0.0559</td>\n",
       "      <td>0.000000</td>\n",
       "      <td>0.7900</td>\n",
       "      <td>0.642</td>\n",
       "      <td>116.971</td>\n",
       "      <td>196653</td>\n",
       "      <td>Hip-Hop/Rap</td>\n",
       "    </tr>\n",
       "  </tbody>\n",
       "</table>\n",
       "</div>"
      ],
      "text/plain": [
       "        artist                                  album       track_name  \\\n",
       "0   The Weeknd                            After Hours  Blinding Lights   \n",
       "1  Tones And I                           Dance Monkey     Dance Monkey   \n",
       "2  Roddy Ricch  Please Excuse Me For Being Antisocial          The Box   \n",
       "\n",
       "                 track_id  energy  danceability  key  loudness  acousticness  \\\n",
       "0  0VjIjW4GlUZAMYd2vXMi3b   0.730         0.514    1    -5.934       0.00146   \n",
       "1  1rgnBhdG2JDFTbYkYRZAku   0.593         0.825    6    -6.401       0.68800   \n",
       "2  0nbXyq5TXYPCO7pr3N8S4I   0.586         0.896   10    -6.687       0.10400   \n",
       "\n",
       "   speechiness  instrumentalness  liveness  valence    tempo  duration_ms  \\\n",
       "0       0.0598          0.000095    0.0897    0.334  171.005       200040   \n",
       "1       0.0988          0.000161    0.1700    0.540   98.078       209755   \n",
       "2       0.0559          0.000000    0.7900    0.642  116.971       196653   \n",
       "\n",
       "               genre  \n",
       "0           R&B/Soul  \n",
       "1  Alternative/Indie  \n",
       "2        Hip-Hop/Rap  "
      ]
     },
     "execution_count": 5,
     "metadata": {},
     "output_type": "execute_result"
    }
   ],
   "source": [
    "df = pd.read_csv('spotifytoptracks.csv', index_col=0)\n",
    "df.head(3)"
   ]
  },
  {
   "cell_type": "markdown",
   "id": "9633ba9c-e756-492f-b5d5-96412319d4f0",
   "metadata": {},
   "source": [
    "*Note:* index_col=0 makes pandas use the first column of the file as the row index instead of adding a new default index. This is useful if the first column already has unique IDs or labels."
   ]
  },
  {
   "cell_type": "markdown",
   "id": "e44e0183-9970-4ac7-9e67-b782fdb218a9",
   "metadata": {},
   "source": [
    "### 🧹 Dataset cleaning "
   ]
  },
  {
   "cell_type": "markdown",
   "id": "64e33d3a-a94f-4338-a3b3-fe4a519db5ab",
   "metadata": {},
   "source": [
    "*3 main steps for data cleaning:*\n",
    "- Handle missing values.\n",
    "- Remove duplicate samples and features.\n",
    "- Treat the outliers."
   ]
  },
  {
   "cell_type": "code",
   "execution_count": 10,
   "id": "74fedcb4-b767-4d1f-a8ba-e094f4cd3178",
   "metadata": {},
   "outputs": [
    {
     "name": "stdout",
     "output_type": "stream",
     "text": [
      "artist              0\n",
      "album               0\n",
      "track_name          0\n",
      "track_id            0\n",
      "energy              0\n",
      "danceability        0\n",
      "key                 0\n",
      "loudness            0\n",
      "acousticness        0\n",
      "speechiness         0\n",
      "instrumentalness    0\n",
      "liveness            0\n",
      "valence             0\n",
      "tempo               0\n",
      "duration_ms         0\n",
      "genre               0\n",
      "dtype: int64\n"
     ]
    }
   ],
   "source": [
    "missing_values = df.isnull().sum()\n",
    "print(missing_values)"
   ]
  },
  {
   "cell_type": "markdown",
   "id": "3c786a27-38ec-42a0-83dd-22c05e1c6ba3",
   "metadata": {},
   "source": [
    "*Note:* 0 in result table shows that no null values are in dataset. All columns&rows have data in cells. "
   ]
  },
  {
   "cell_type": "code",
   "execution_count": 13,
   "id": "a5a17da7-fe4c-4b96-bc80-94e90918baf4",
   "metadata": {},
   "outputs": [
    {
     "name": "stdout",
     "output_type": "stream",
     "text": [
      "Number of duplicate rows: 0\n"
     ]
    }
   ],
   "source": [
    "duplicates_all = df.duplicated()\n",
    "print(f\"Number of duplicate rows: {duplicates_all.sum()}\")"
   ]
  },
  {
   "cell_type": "markdown",
   "id": "8db60ad2-1786-4046-9f38-d99e6f57269e",
   "metadata": {},
   "source": [
    "*Note:* there are no duplicate rows in dataset. "
   ]
  },
  {
   "cell_type": "code",
   "execution_count": 16,
   "id": "231de689-8837-4bb4-95ec-7f3aaf87392b",
   "metadata": {},
   "outputs": [
    {
     "name": "stdout",
     "output_type": "stream",
     "text": [
      "energy: 0 outliers\n",
      "danceability: 3 outliers\n",
      "key: 0 outliers\n",
      "loudness: 1 outliers\n",
      "acousticness: 7 outliers\n",
      "speechiness: 6 outliers\n",
      "instrumentalness: 12 outliers\n",
      "liveness: 3 outliers\n",
      "valence: 0 outliers\n",
      "tempo: 0 outliers\n",
      "duration_ms: 2 outliers\n"
     ]
    }
   ],
   "source": [
    "def count_outliers(column):\n",
    "    '''Q1 - First quartile, Q3 - Third quartile\n",
    "    IQR - Interquartile range\n",
    "    lower_bound - Lower threshold for outliers\n",
    "    upper_bound - Upper threshold for outliers'''\n",
    "    Q1 = column.quantile(0.25)  \n",
    "    Q3 = column.quantile(0.75)  \n",
    "    IQR = Q3 - Q1  \n",
    "    lower_bound = Q1 - 1.5 * IQR  \n",
    "    upper_bound = Q3 + 1.5 * IQR  \n",
    "    outliers = column[(column < lower_bound) | (column > upper_bound)]\n",
    "    return len(outliers)\n",
    "\n",
    "columns_to_check = [\n",
    "    'energy', 'danceability', 'key', 'loudness', 'acousticness',\n",
    "    'speechiness', 'instrumentalness', 'liveness', 'valence', 'tempo', 'duration_ms'\n",
    "]\n",
    "\n",
    "outliers_count = {col: count_outliers(df[col]) for col in columns_to_check}\n",
    "\n",
    "for col, count in outliers_count.items():\n",
    "    print(f\"{col}: {count} outliers\")"
   ]
  },
  {
   "cell_type": "markdown",
   "id": "6930fbdc-9e4f-484b-9fc7-00260632d43f",
   "metadata": {},
   "source": [
    "*Note:* An Outlier is a data item/object that deviates significantly from the rest of the objects. The dataset consists of only 50 rows, making it relatively small. Removing outliers from this dataset could significantly impact its structure and compromise the accuracy of future analyses and insights. So all rows will be kept for analysing dataset."
   ]
  },
  {
   "cell_type": "markdown",
   "id": "5948684b-2704-4d5a-9a32-3cccb79d70ca",
   "metadata": {},
   "source": [
    "### 📊 Exploratory data analysis \n"
   ]
  },
  {
   "cell_type": "markdown",
   "id": "1673ede8-a54e-4cf6-8035-53d8792eff3d",
   "metadata": {},
   "source": [
    "**How many observations are there in this dataset?**"
   ]
  },
  {
   "cell_type": "code",
   "execution_count": 21,
   "id": "51fc4ec4-47ab-47ff-95a7-1351d2980a29",
   "metadata": {},
   "outputs": [
    {
     "name": "stdout",
     "output_type": "stream",
     "text": [
      "Number of observations: 50\n"
     ]
    }
   ],
   "source": [
    "num_observations = len(df)\n",
    "print(f\"Number of observations: {num_observations}\")"
   ]
  },
  {
   "cell_type": "markdown",
   "id": "56e8bad2-c500-48dc-a28d-34e6a0bd32bd",
   "metadata": {},
   "source": [
    "*Note:* The number of observations refers to the number of rows in dataset. The dataset have 50 rows."
   ]
  },
  {
   "cell_type": "markdown",
   "id": "90ff7946-9de9-4207-acf9-533ae53f2015",
   "metadata": {},
   "source": [
    "**How many features this dataset has?**"
   ]
  },
  {
   "cell_type": "code",
   "execution_count": 25,
   "id": "6c2fbc9c-e7b8-4c3b-aa83-08e40cfa264a",
   "metadata": {},
   "outputs": [
    {
     "name": "stdout",
     "output_type": "stream",
     "text": [
      "Number of features: 16\n"
     ]
    }
   ],
   "source": [
    "num_features = len(df.columns)\n",
    "print(f\"Number of features: {num_features}\")"
   ]
  },
  {
   "cell_type": "markdown",
   "id": "c05ebe44-9bf2-4f14-b8bf-4b8ef2135b7e",
   "metadata": {},
   "source": [
    "*Note:* The number of observations refers the number of columns in dataset. The dataset have 16 columns."
   ]
  },
  {
   "cell_type": "markdown",
   "id": "daaf247c-a2a4-44a1-9940-e99ba56c8aaf",
   "metadata": {},
   "source": [
    "**Which of the features are categorical?**"
   ]
  },
  {
   "cell_type": "code",
   "execution_count": 29,
   "id": "5dae655b-b793-4bf8-bb11-b0a5feea3356",
   "metadata": {},
   "outputs": [
    {
     "name": "stdout",
     "output_type": "stream",
     "text": [
      "Number of categorical features: 5\n",
      "List of catergorical names: ['artist', 'album', 'track_name', 'track_id', 'genre']\n"
     ]
    }
   ],
   "source": [
    "categorical_col = df.select_dtypes(include=['object']).columns.tolist()\n",
    "no_cat_col = len(categorical_col)\n",
    "\n",
    "print(f\"Number of categorical features: {no_cat_col}\")\n",
    "print(f\"List of catergorical names: {categorical_col}\") "
   ]
  },
  {
   "cell_type": "markdown",
   "id": "7c716e6b-3070-4731-8a89-9c6cc403955e",
   "metadata": {},
   "source": [
    "**Which of the features are numeric?**"
   ]
  },
  {
   "cell_type": "code",
   "execution_count": 32,
   "id": "880fb12d-5436-4b81-9d30-8458e2efa38f",
   "metadata": {},
   "outputs": [
    {
     "name": "stdout",
     "output_type": "stream",
     "text": [
      "Number of numeric features: 11\n",
      "List of numeric names: ['energy', 'danceability', 'key', 'loudness', 'acousticness', 'speechiness', 'instrumentalness', 'liveness', 'valence', 'tempo', 'duration_ms']\n"
     ]
    }
   ],
   "source": [
    "num_col = df.select_dtypes(include=['number']).columns.tolist()\n",
    "no_num_col = len(num_col)\n",
    "\n",
    "print(f\"Number of numeric features: {no_num_col}\") \n",
    "print(f\"List of numeric names: {num_col}\") "
   ]
  },
  {
   "cell_type": "markdown",
   "id": "b03fd9a5-0ce3-4f77-8e28-5f2439e01251",
   "metadata": {},
   "source": [
    "**Are there any artists that have more than 1 popular track? If yes, which and how many?**"
   ]
  },
  {
   "cell_type": "code",
   "execution_count": 35,
   "id": "fe3454de-7cda-423e-b97b-44a015adb0a8",
   "metadata": {},
   "outputs": [
    {
     "name": "stdout",
     "output_type": "stream",
     "text": [
      "Artists who have more than 1 popular song:\n",
      "artist\n",
      "Dua Lipa         3\n",
      "Billie Eilish    3\n",
      "Travis Scott     3\n",
      "Harry Styles     2\n",
      "Lewis Capaldi    2\n",
      "Justin Bieber    2\n",
      "Post Malone      2\n",
      "Name: count, dtype: int64\n"
     ]
    }
   ],
   "source": [
    "popular_artist = df.artist.value_counts()\n",
    "pop_track = popular_artist[popular_artist > 1]\n",
    "print(f\"Artists who have more than 1 popular song:\")\n",
    "print(pop_track)"
   ]
  },
  {
   "cell_type": "markdown",
   "id": "ff3316ce-559b-4cb0-94da-448afdccfbc1",
   "metadata": {},
   "source": [
    "*Note:* result table shows all artists who have more than 1 popular track. 3 artists have 3 popular tracks and 4 artists have 2 popular tracks."
   ]
  },
  {
   "cell_type": "markdown",
   "id": "e8ba6f2b-59c9-4350-8bc0-e3739e9962f8",
   "metadata": {},
   "source": [
    "**Who was the most popular artist?**"
   ]
  },
  {
   "cell_type": "code",
   "execution_count": 39,
   "id": "c3971c8e-bcb8-4775-9111-eb8e5ea80d92",
   "metadata": {},
   "outputs": [
    {
     "name": "stdout",
     "output_type": "stream",
     "text": [
      "The most popular artists:\n",
      "artist\n",
      "Dua Lipa         3\n",
      "Billie Eilish    3\n",
      "Travis Scott     3\n",
      "Name: count, dtype: int64\n"
     ]
    }
   ],
   "source": [
    "popular_artist = df.artist.value_counts()\n",
    "pop_track = popular_artist.max()\n",
    "most_popular_artists = popular_artist[popular_artist == pop_track]\n",
    "print(f\"The most popular artists:\")\n",
    "print(most_popular_artists)"
   ]
  },
  {
   "cell_type": "markdown",
   "id": "005f3461-abc5-4070-8f63-bf42d27b3ac0",
   "metadata": {},
   "source": [
    "*Note:* The popular artist in this case was determined based on the number of their popular tracks included in the list. In this dataset there are 3 artists who have most tracks (each has for 3 tracks). "
   ]
  },
  {
   "cell_type": "markdown",
   "id": "4306f7c1-1a97-4784-a0a8-07a08e681938",
   "metadata": {},
   "source": [
    "**How many artists in total have their songs in the top 50?**"
   ]
  },
  {
   "cell_type": "code",
   "execution_count": 43,
   "id": "69a126c0-c970-4dde-ab2e-1ce7432999e7",
   "metadata": {},
   "outputs": [
    {
     "name": "stdout",
     "output_type": "stream",
     "text": [
      "Total number of unique artists: 40\n"
     ]
    }
   ],
   "source": [
    "unique_artists = df.artist.unique()\n",
    "no_unique = len(unique_artists)\n",
    "print(f'Total number of unique artists: {no_unique}')"
   ]
  },
  {
   "cell_type": "markdown",
   "id": "a5653306-a16b-4c9a-901d-2eca30b23f65",
   "metadata": {},
   "source": [
    "**Are there any albums that have more than 1 popular track? If yes, which and how many?**"
   ]
  },
  {
   "cell_type": "code",
   "execution_count": 46,
   "id": "6ae0469e-e4f6-4121-80cd-bfd81ba4671d",
   "metadata": {},
   "outputs": [
    {
     "name": "stdout",
     "output_type": "stream",
     "text": [
      "Albums which have more than 1 popular song:\n",
      "album\n",
      "Future Nostalgia        3\n",
      "Hollywood's Bleeding    2\n",
      "Fine Line               2\n",
      "Changes                 2\n",
      "Name: count, dtype: int64\n"
     ]
    }
   ],
   "source": [
    "popular_album = df.album.value_counts()\n",
    "pop_track = popular_album[popular_album > 1]\n",
    "print(f\"Albums which have more than 1 popular song:\")\n",
    "print(pop_track)"
   ]
  },
  {
   "cell_type": "markdown",
   "id": "e9676ffc-c563-48f8-a81a-721efbde17f6",
   "metadata": {},
   "source": [
    "*Note:* result table shows all albums which have more than 1 popular track. 1 album have 3 popular tracks and 3 albums have 2 popular tracks."
   ]
  },
  {
   "cell_type": "markdown",
   "id": "2219a82f-478c-4552-9169-169b256a0bdf",
   "metadata": {},
   "source": [
    "**How many albums in total have their songs in the top 50?**"
   ]
  },
  {
   "cell_type": "code",
   "execution_count": 50,
   "id": "f38ebbf6-710a-4a23-9d2a-6eca14cb81dc",
   "metadata": {},
   "outputs": [
    {
     "name": "stdout",
     "output_type": "stream",
     "text": [
      "Total number of unique albums: 45\n"
     ]
    }
   ],
   "source": [
    "unique_albums = df.album.unique()\n",
    "no_unique = len(unique_albums)\n",
    "print(f'Total number of unique albums: {no_unique}')"
   ]
  },
  {
   "cell_type": "markdown",
   "id": "6c8c4a42-d011-4c1e-a88e-168612175b2e",
   "metadata": {},
   "source": [
    "**Which tracks have a danceability score above 0.7?**"
   ]
  },
  {
   "cell_type": "code",
   "execution_count": 53,
   "id": "392fea36-2e38-40e8-9f73-999422cda281",
   "metadata": {},
   "outputs": [
    {
     "name": "stdout",
     "output_type": "stream",
     "text": [
      "In dataset are 32 tracks with a danceability score above 0.7\n"
     ]
    },
    {
     "data": {
      "text/html": [
       "<div>\n",
       "<style scoped>\n",
       "    .dataframe tbody tr th:only-of-type {\n",
       "        vertical-align: middle;\n",
       "    }\n",
       "\n",
       "    .dataframe tbody tr th {\n",
       "        vertical-align: top;\n",
       "    }\n",
       "\n",
       "    .dataframe thead th {\n",
       "        text-align: right;\n",
       "    }\n",
       "</style>\n",
       "<table border=\"1\" class=\"dataframe\">\n",
       "  <thead>\n",
       "    <tr style=\"text-align: right;\">\n",
       "      <th></th>\n",
       "      <th>artist</th>\n",
       "      <th>track_name</th>\n",
       "      <th>danceability</th>\n",
       "    </tr>\n",
       "  </thead>\n",
       "  <tbody>\n",
       "    <tr>\n",
       "      <th>1</th>\n",
       "      <td>Tones And I</td>\n",
       "      <td>Dance Monkey</td>\n",
       "      <td>0.825</td>\n",
       "    </tr>\n",
       "    <tr>\n",
       "      <th>2</th>\n",
       "      <td>Roddy Ricch</td>\n",
       "      <td>The Box</td>\n",
       "      <td>0.896</td>\n",
       "    </tr>\n",
       "    <tr>\n",
       "      <th>3</th>\n",
       "      <td>SAINt JHN</td>\n",
       "      <td>Roses - Imanbek Remix</td>\n",
       "      <td>0.785</td>\n",
       "    </tr>\n",
       "    <tr>\n",
       "      <th>4</th>\n",
       "      <td>Dua Lipa</td>\n",
       "      <td>Don't Start Now</td>\n",
       "      <td>0.793</td>\n",
       "    </tr>\n",
       "    <tr>\n",
       "      <th>5</th>\n",
       "      <td>DaBaby</td>\n",
       "      <td>ROCKSTAR (feat. Roddy Ricch)</td>\n",
       "      <td>0.746</td>\n",
       "    </tr>\n",
       "    <tr>\n",
       "      <th>7</th>\n",
       "      <td>Powfu</td>\n",
       "      <td>death bed (coffee for your head)</td>\n",
       "      <td>0.726</td>\n",
       "    </tr>\n",
       "    <tr>\n",
       "      <th>8</th>\n",
       "      <td>Trevor Daniel</td>\n",
       "      <td>Falling</td>\n",
       "      <td>0.784</td>\n",
       "    </tr>\n",
       "    <tr>\n",
       "      <th>10</th>\n",
       "      <td>KAROL G</td>\n",
       "      <td>Tusa</td>\n",
       "      <td>0.803</td>\n",
       "    </tr>\n",
       "    <tr>\n",
       "      <th>13</th>\n",
       "      <td>Lil Mosey</td>\n",
       "      <td>Blueberry Faygo</td>\n",
       "      <td>0.774</td>\n",
       "    </tr>\n",
       "    <tr>\n",
       "      <th>14</th>\n",
       "      <td>Justin Bieber</td>\n",
       "      <td>Intentions (feat. Quavo)</td>\n",
       "      <td>0.806</td>\n",
       "    </tr>\n",
       "    <tr>\n",
       "      <th>15</th>\n",
       "      <td>Drake</td>\n",
       "      <td>Toosie Slide</td>\n",
       "      <td>0.830</td>\n",
       "    </tr>\n",
       "    <tr>\n",
       "      <th>17</th>\n",
       "      <td>Doja Cat</td>\n",
       "      <td>Say So</td>\n",
       "      <td>0.787</td>\n",
       "    </tr>\n",
       "    <tr>\n",
       "      <th>18</th>\n",
       "      <td>Maroon 5</td>\n",
       "      <td>Memories</td>\n",
       "      <td>0.764</td>\n",
       "    </tr>\n",
       "    <tr>\n",
       "      <th>19</th>\n",
       "      <td>Future</td>\n",
       "      <td>Life Is Good (feat. Drake)</td>\n",
       "      <td>0.795</td>\n",
       "    </tr>\n",
       "    <tr>\n",
       "      <th>20</th>\n",
       "      <td>Jawsh 685</td>\n",
       "      <td>Savage Love (Laxed - Siren Beat)</td>\n",
       "      <td>0.767</td>\n",
       "    </tr>\n",
       "    <tr>\n",
       "      <th>22</th>\n",
       "      <td>Topic</td>\n",
       "      <td>Breaking Me</td>\n",
       "      <td>0.789</td>\n",
       "    </tr>\n",
       "    <tr>\n",
       "      <th>24</th>\n",
       "      <td>Billie Eilish</td>\n",
       "      <td>everything i wanted</td>\n",
       "      <td>0.704</td>\n",
       "    </tr>\n",
       "    <tr>\n",
       "      <th>25</th>\n",
       "      <td>Shawn Mendes</td>\n",
       "      <td>Señorita</td>\n",
       "      <td>0.759</td>\n",
       "    </tr>\n",
       "    <tr>\n",
       "      <th>26</th>\n",
       "      <td>Billie Eilish</td>\n",
       "      <td>bad guy</td>\n",
       "      <td>0.701</td>\n",
       "    </tr>\n",
       "    <tr>\n",
       "      <th>27</th>\n",
       "      <td>Cardi B</td>\n",
       "      <td>WAP (feat. Megan Thee Stallion)</td>\n",
       "      <td>0.935</td>\n",
       "    </tr>\n",
       "    <tr>\n",
       "      <th>28</th>\n",
       "      <td>Surfaces</td>\n",
       "      <td>Sunday Best</td>\n",
       "      <td>0.878</td>\n",
       "    </tr>\n",
       "    <tr>\n",
       "      <th>29</th>\n",
       "      <td>Eminem</td>\n",
       "      <td>Godzilla (feat. Juice WRLD)</td>\n",
       "      <td>0.808</td>\n",
       "    </tr>\n",
       "    <tr>\n",
       "      <th>31</th>\n",
       "      <td>Dua Lipa</td>\n",
       "      <td>Break My Heart</td>\n",
       "      <td>0.730</td>\n",
       "    </tr>\n",
       "    <tr>\n",
       "      <th>32</th>\n",
       "      <td>BTS</td>\n",
       "      <td>Dynamite</td>\n",
       "      <td>0.746</td>\n",
       "    </tr>\n",
       "    <tr>\n",
       "      <th>33</th>\n",
       "      <td>BENEE</td>\n",
       "      <td>Supalonely (feat. Gus Dapperton)</td>\n",
       "      <td>0.862</td>\n",
       "    </tr>\n",
       "    <tr>\n",
       "      <th>37</th>\n",
       "      <td>Post Malone</td>\n",
       "      <td>Sunflower - Spider-Man: Into the Spider-Verse</td>\n",
       "      <td>0.755</td>\n",
       "    </tr>\n",
       "    <tr>\n",
       "      <th>38</th>\n",
       "      <td>Maluma</td>\n",
       "      <td>Hawái</td>\n",
       "      <td>0.783</td>\n",
       "    </tr>\n",
       "    <tr>\n",
       "      <th>39</th>\n",
       "      <td>Regard</td>\n",
       "      <td>Ride It</td>\n",
       "      <td>0.880</td>\n",
       "    </tr>\n",
       "    <tr>\n",
       "      <th>40</th>\n",
       "      <td>Travis Scott</td>\n",
       "      <td>goosebumps</td>\n",
       "      <td>0.841</td>\n",
       "    </tr>\n",
       "    <tr>\n",
       "      <th>41</th>\n",
       "      <td>Black Eyed Peas</td>\n",
       "      <td>RITMO (Bad Boys For Life)</td>\n",
       "      <td>0.723</td>\n",
       "    </tr>\n",
       "    <tr>\n",
       "      <th>42</th>\n",
       "      <td>THE SCOTTS</td>\n",
       "      <td>THE SCOTTS</td>\n",
       "      <td>0.716</td>\n",
       "    </tr>\n",
       "    <tr>\n",
       "      <th>49</th>\n",
       "      <td>Travis Scott</td>\n",
       "      <td>SICKO MODE</td>\n",
       "      <td>0.834</td>\n",
       "    </tr>\n",
       "  </tbody>\n",
       "</table>\n",
       "</div>"
      ],
      "text/plain": [
       "             artist                                     track_name  \\\n",
       "1       Tones And I                                   Dance Monkey   \n",
       "2       Roddy Ricch                                        The Box   \n",
       "3         SAINt JHN                          Roses - Imanbek Remix   \n",
       "4          Dua Lipa                                Don't Start Now   \n",
       "5            DaBaby                   ROCKSTAR (feat. Roddy Ricch)   \n",
       "7             Powfu               death bed (coffee for your head)   \n",
       "8     Trevor Daniel                                        Falling   \n",
       "10          KAROL G                                           Tusa   \n",
       "13        Lil Mosey                                Blueberry Faygo   \n",
       "14    Justin Bieber                       Intentions (feat. Quavo)   \n",
       "15            Drake                                   Toosie Slide   \n",
       "17         Doja Cat                                         Say So   \n",
       "18         Maroon 5                                       Memories   \n",
       "19           Future                     Life Is Good (feat. Drake)   \n",
       "20        Jawsh 685               Savage Love (Laxed - Siren Beat)   \n",
       "22            Topic                                    Breaking Me   \n",
       "24    Billie Eilish                            everything i wanted   \n",
       "25     Shawn Mendes                                       Señorita   \n",
       "26    Billie Eilish                                        bad guy   \n",
       "27          Cardi B                WAP (feat. Megan Thee Stallion)   \n",
       "28         Surfaces                                    Sunday Best   \n",
       "29           Eminem                    Godzilla (feat. Juice WRLD)   \n",
       "31         Dua Lipa                                 Break My Heart   \n",
       "32              BTS                                       Dynamite   \n",
       "33            BENEE               Supalonely (feat. Gus Dapperton)   \n",
       "37      Post Malone  Sunflower - Spider-Man: Into the Spider-Verse   \n",
       "38           Maluma                                          Hawái   \n",
       "39           Regard                                        Ride It   \n",
       "40     Travis Scott                                     goosebumps   \n",
       "41  Black Eyed Peas                      RITMO (Bad Boys For Life)   \n",
       "42       THE SCOTTS                                     THE SCOTTS   \n",
       "49     Travis Scott                                     SICKO MODE   \n",
       "\n",
       "    danceability  \n",
       "1          0.825  \n",
       "2          0.896  \n",
       "3          0.785  \n",
       "4          0.793  \n",
       "5          0.746  \n",
       "7          0.726  \n",
       "8          0.784  \n",
       "10         0.803  \n",
       "13         0.774  \n",
       "14         0.806  \n",
       "15         0.830  \n",
       "17         0.787  \n",
       "18         0.764  \n",
       "19         0.795  \n",
       "20         0.767  \n",
       "22         0.789  \n",
       "24         0.704  \n",
       "25         0.759  \n",
       "26         0.701  \n",
       "27         0.935  \n",
       "28         0.878  \n",
       "29         0.808  \n",
       "31         0.730  \n",
       "32         0.746  \n",
       "33         0.862  \n",
       "37         0.755  \n",
       "38         0.783  \n",
       "39         0.880  \n",
       "40         0.841  \n",
       "41         0.723  \n",
       "42         0.716  \n",
       "49         0.834  "
      ]
     },
     "execution_count": 53,
     "metadata": {},
     "output_type": "execute_result"
    }
   ],
   "source": [
    "high_danceability = df[df['danceability'] > 0.7]\n",
    "high_danceability = high_danceability[['artist', 'track_name', 'danceability']]\n",
    "print(f\"In dataset are {len(high_danceability)} tracks with a danceability score above 0.7\")\n",
    "high_danceability"
   ]
  },
  {
   "cell_type": "markdown",
   "id": "811211cb-7d8e-4381-a719-f1264c31d533",
   "metadata": {},
   "source": [
    "*Note:* Danceability easures how suitable a track is for dancing, based on tempo, rhythm stability, beat strength, and overall regularity. Higher values indicate tracks that are easier to dance to. 64% of the tracks in this top list have a high danceability value, demonstrating that listeners tend to prefer songs that are easy to dance to."
   ]
  },
  {
   "cell_type": "markdown",
   "id": "4d8fd97d-9bdf-4185-88b2-cd825f8c1220",
   "metadata": {},
   "source": [
    "**Which tracks have a danceability score below 0.4?**"
   ]
  },
  {
   "cell_type": "code",
   "execution_count": 57,
   "id": "f7fd2edf-4c69-405e-914a-c63162bbb4c8",
   "metadata": {},
   "outputs": [
    {
     "name": "stdout",
     "output_type": "stream",
     "text": [
      "In dataset are 1 tracks with a danceability score below 0.4\n"
     ]
    },
    {
     "data": {
      "text/html": [
       "<div>\n",
       "<style scoped>\n",
       "    .dataframe tbody tr th:only-of-type {\n",
       "        vertical-align: middle;\n",
       "    }\n",
       "\n",
       "    .dataframe tbody tr th {\n",
       "        vertical-align: top;\n",
       "    }\n",
       "\n",
       "    .dataframe thead th {\n",
       "        text-align: right;\n",
       "    }\n",
       "</style>\n",
       "<table border=\"1\" class=\"dataframe\">\n",
       "  <thead>\n",
       "    <tr style=\"text-align: right;\">\n",
       "      <th></th>\n",
       "      <th>artist</th>\n",
       "      <th>track_name</th>\n",
       "      <th>danceability</th>\n",
       "    </tr>\n",
       "  </thead>\n",
       "  <tbody>\n",
       "    <tr>\n",
       "      <th>44</th>\n",
       "      <td>Billie Eilish</td>\n",
       "      <td>lovely (with Khalid)</td>\n",
       "      <td>0.351</td>\n",
       "    </tr>\n",
       "  </tbody>\n",
       "</table>\n",
       "</div>"
      ],
      "text/plain": [
       "           artist            track_name  danceability\n",
       "44  Billie Eilish  lovely (with Khalid)         0.351"
      ]
     },
     "execution_count": 57,
     "metadata": {},
     "output_type": "execute_result"
    }
   ],
   "source": [
    "low_danceability = df[df['danceability'] < 0.4]\n",
    "low_danceability = low_danceability[['artist', 'track_name', 'danceability']]\n",
    "print(f\"In dataset are {len(low_danceability)} tracks with a danceability score below 0.4\")\n",
    "low_danceability"
   ]
  },
  {
   "cell_type": "markdown",
   "id": "694bcce1-c113-40f8-87de-53792a05e7ae",
   "metadata": {},
   "source": [
    "**Which tracks have their loudness above -5?**"
   ]
  },
  {
   "cell_type": "code",
   "execution_count": 60,
   "id": "046ae647-38e9-4211-9f23-8369f2fa0eeb",
   "metadata": {},
   "outputs": [
    {
     "name": "stdout",
     "output_type": "stream",
     "text": [
      "In dataset are 19 tracks with a loudness above -5\n"
     ]
    },
    {
     "data": {
      "text/html": [
       "<div>\n",
       "<style scoped>\n",
       "    .dataframe tbody tr th:only-of-type {\n",
       "        vertical-align: middle;\n",
       "    }\n",
       "\n",
       "    .dataframe tbody tr th {\n",
       "        vertical-align: top;\n",
       "    }\n",
       "\n",
       "    .dataframe thead th {\n",
       "        text-align: right;\n",
       "    }\n",
       "</style>\n",
       "<table border=\"1\" class=\"dataframe\">\n",
       "  <thead>\n",
       "    <tr style=\"text-align: right;\">\n",
       "      <th></th>\n",
       "      <th>artist</th>\n",
       "      <th>track_name</th>\n",
       "      <th>loudness</th>\n",
       "    </tr>\n",
       "  </thead>\n",
       "  <tbody>\n",
       "    <tr>\n",
       "      <th>4</th>\n",
       "      <td>Dua Lipa</td>\n",
       "      <td>Don't Start Now</td>\n",
       "      <td>-4.521</td>\n",
       "    </tr>\n",
       "    <tr>\n",
       "      <th>6</th>\n",
       "      <td>Harry Styles</td>\n",
       "      <td>Watermelon Sugar</td>\n",
       "      <td>-4.209</td>\n",
       "    </tr>\n",
       "    <tr>\n",
       "      <th>10</th>\n",
       "      <td>KAROL G</td>\n",
       "      <td>Tusa</td>\n",
       "      <td>-3.280</td>\n",
       "    </tr>\n",
       "    <tr>\n",
       "      <th>12</th>\n",
       "      <td>Post Malone</td>\n",
       "      <td>Circles</td>\n",
       "      <td>-3.497</td>\n",
       "    </tr>\n",
       "    <tr>\n",
       "      <th>16</th>\n",
       "      <td>Lewis Capaldi</td>\n",
       "      <td>Before You Go</td>\n",
       "      <td>-4.858</td>\n",
       "    </tr>\n",
       "    <tr>\n",
       "      <th>17</th>\n",
       "      <td>Doja Cat</td>\n",
       "      <td>Say So</td>\n",
       "      <td>-4.577</td>\n",
       "    </tr>\n",
       "    <tr>\n",
       "      <th>21</th>\n",
       "      <td>Harry Styles</td>\n",
       "      <td>Adore You</td>\n",
       "      <td>-3.675</td>\n",
       "    </tr>\n",
       "    <tr>\n",
       "      <th>23</th>\n",
       "      <td>24kGoldn</td>\n",
       "      <td>Mood (feat. iann dior)</td>\n",
       "      <td>-3.558</td>\n",
       "    </tr>\n",
       "    <tr>\n",
       "      <th>31</th>\n",
       "      <td>Dua Lipa</td>\n",
       "      <td>Break My Heart</td>\n",
       "      <td>-3.434</td>\n",
       "    </tr>\n",
       "    <tr>\n",
       "      <th>32</th>\n",
       "      <td>BTS</td>\n",
       "      <td>Dynamite</td>\n",
       "      <td>-4.410</td>\n",
       "    </tr>\n",
       "    <tr>\n",
       "      <th>33</th>\n",
       "      <td>BENEE</td>\n",
       "      <td>Supalonely (feat. Gus Dapperton)</td>\n",
       "      <td>-4.746</td>\n",
       "    </tr>\n",
       "    <tr>\n",
       "      <th>35</th>\n",
       "      <td>Lady Gaga</td>\n",
       "      <td>Rain On Me (with Ariana Grande)</td>\n",
       "      <td>-3.764</td>\n",
       "    </tr>\n",
       "    <tr>\n",
       "      <th>37</th>\n",
       "      <td>Post Malone</td>\n",
       "      <td>Sunflower - Spider-Man: Into the Spider-Verse</td>\n",
       "      <td>-4.368</td>\n",
       "    </tr>\n",
       "    <tr>\n",
       "      <th>38</th>\n",
       "      <td>Maluma</td>\n",
       "      <td>Hawái</td>\n",
       "      <td>-3.454</td>\n",
       "    </tr>\n",
       "    <tr>\n",
       "      <th>39</th>\n",
       "      <td>Regard</td>\n",
       "      <td>Ride It</td>\n",
       "      <td>-4.258</td>\n",
       "    </tr>\n",
       "    <tr>\n",
       "      <th>40</th>\n",
       "      <td>Travis Scott</td>\n",
       "      <td>goosebumps</td>\n",
       "      <td>-3.370</td>\n",
       "    </tr>\n",
       "    <tr>\n",
       "      <th>43</th>\n",
       "      <td>Bad Bunny</td>\n",
       "      <td>Safaera</td>\n",
       "      <td>-4.074</td>\n",
       "    </tr>\n",
       "    <tr>\n",
       "      <th>48</th>\n",
       "      <td>Dua Lipa</td>\n",
       "      <td>Physical</td>\n",
       "      <td>-3.756</td>\n",
       "    </tr>\n",
       "    <tr>\n",
       "      <th>49</th>\n",
       "      <td>Travis Scott</td>\n",
       "      <td>SICKO MODE</td>\n",
       "      <td>-3.714</td>\n",
       "    </tr>\n",
       "  </tbody>\n",
       "</table>\n",
       "</div>"
      ],
      "text/plain": [
       "           artist                                     track_name  loudness\n",
       "4        Dua Lipa                                Don't Start Now    -4.521\n",
       "6    Harry Styles                               Watermelon Sugar    -4.209\n",
       "10        KAROL G                                           Tusa    -3.280\n",
       "12    Post Malone                                        Circles    -3.497\n",
       "16  Lewis Capaldi                                  Before You Go    -4.858\n",
       "17       Doja Cat                                         Say So    -4.577\n",
       "21   Harry Styles                                      Adore You    -3.675\n",
       "23       24kGoldn                         Mood (feat. iann dior)    -3.558\n",
       "31       Dua Lipa                                 Break My Heart    -3.434\n",
       "32            BTS                                       Dynamite    -4.410\n",
       "33          BENEE               Supalonely (feat. Gus Dapperton)    -4.746\n",
       "35      Lady Gaga                Rain On Me (with Ariana Grande)    -3.764\n",
       "37    Post Malone  Sunflower - Spider-Man: Into the Spider-Verse    -4.368\n",
       "38         Maluma                                          Hawái    -3.454\n",
       "39         Regard                                        Ride It    -4.258\n",
       "40   Travis Scott                                     goosebumps    -3.370\n",
       "43      Bad Bunny                                        Safaera    -4.074\n",
       "48       Dua Lipa                                       Physical    -3.756\n",
       "49   Travis Scott                                     SICKO MODE    -3.714"
      ]
     },
     "execution_count": 60,
     "metadata": {},
     "output_type": "execute_result"
    }
   ],
   "source": [
    "loud_tracks = df[df['loudness'] > -5]\n",
    "loud_tracks = loud_tracks[['artist', 'track_name', 'loudness']]\n",
    "print(f\"In dataset are {len(loud_tracks)} tracks with a loudness above -5\")\n",
    "loud_tracks"
   ]
  },
  {
   "cell_type": "markdown",
   "id": "b73ad6e1-6586-4ddf-882d-1c056b5df316",
   "metadata": {},
   "source": [
    "*Note:* Loudness indicates the average volume of a track in decibels (dB). \"Above -5\" means greater than -5, so it includes numbers like -4, -3, 0, etc., but not -5 itself or anything smaller (e.g., -6). The closer the value is to 0, the louder it is.  Higher values represent louder tracks, while lower values represent quieter ones. 38% of the tracks in Top list have loudness over -5dB."
   ]
  },
  {
   "cell_type": "markdown",
   "id": "96125f59-4086-4bcf-9156-4d31b20fe35b",
   "metadata": {},
   "source": [
    "**Which tracks have their loudness below -8?**"
   ]
  },
  {
   "cell_type": "code",
   "execution_count": 602,
   "id": "6a3826a2-1c1a-4eed-ad86-716d7962ca06",
   "metadata": {},
   "outputs": [
    {
     "name": "stdout",
     "output_type": "stream",
     "text": [
      "In dataset are 9 tracks with a loudness below -8\n"
     ]
    },
    {
     "data": {
      "text/html": [
       "<div>\n",
       "<style scoped>\n",
       "    .dataframe tbody tr th:only-of-type {\n",
       "        vertical-align: middle;\n",
       "    }\n",
       "\n",
       "    .dataframe tbody tr th {\n",
       "        vertical-align: top;\n",
       "    }\n",
       "\n",
       "    .dataframe thead th {\n",
       "        text-align: right;\n",
       "    }\n",
       "</style>\n",
       "<table border=\"1\" class=\"dataframe\">\n",
       "  <thead>\n",
       "    <tr style=\"text-align: right;\">\n",
       "      <th></th>\n",
       "      <th>artist</th>\n",
       "      <th>track_name</th>\n",
       "      <th>loudness</th>\n",
       "    </tr>\n",
       "  </thead>\n",
       "  <tbody>\n",
       "    <tr>\n",
       "      <th>7</th>\n",
       "      <td>Powfu</td>\n",
       "      <td>death bed (coffee for your head)</td>\n",
       "      <td>-8.765</td>\n",
       "    </tr>\n",
       "    <tr>\n",
       "      <th>8</th>\n",
       "      <td>Trevor Daniel</td>\n",
       "      <td>Falling</td>\n",
       "      <td>-8.756</td>\n",
       "    </tr>\n",
       "    <tr>\n",
       "      <th>15</th>\n",
       "      <td>Drake</td>\n",
       "      <td>Toosie Slide</td>\n",
       "      <td>-8.820</td>\n",
       "    </tr>\n",
       "    <tr>\n",
       "      <th>20</th>\n",
       "      <td>Jawsh 685</td>\n",
       "      <td>Savage Love (Laxed - Siren Beat)</td>\n",
       "      <td>-8.520</td>\n",
       "    </tr>\n",
       "    <tr>\n",
       "      <th>24</th>\n",
       "      <td>Billie Eilish</td>\n",
       "      <td>everything i wanted</td>\n",
       "      <td>-14.454</td>\n",
       "    </tr>\n",
       "    <tr>\n",
       "      <th>26</th>\n",
       "      <td>Billie Eilish</td>\n",
       "      <td>bad guy</td>\n",
       "      <td>-10.965</td>\n",
       "    </tr>\n",
       "    <tr>\n",
       "      <th>36</th>\n",
       "      <td>Travis Scott</td>\n",
       "      <td>HIGHEST IN THE ROOM</td>\n",
       "      <td>-8.764</td>\n",
       "    </tr>\n",
       "    <tr>\n",
       "      <th>44</th>\n",
       "      <td>Billie Eilish</td>\n",
       "      <td>lovely (with Khalid)</td>\n",
       "      <td>-10.109</td>\n",
       "    </tr>\n",
       "    <tr>\n",
       "      <th>47</th>\n",
       "      <td>JP Saxe</td>\n",
       "      <td>If the World Was Ending - feat. Julia Michaels</td>\n",
       "      <td>-10.086</td>\n",
       "    </tr>\n",
       "  </tbody>\n",
       "</table>\n",
       "</div>"
      ],
      "text/plain": [
       "           artist                                      track_name  loudness\n",
       "7           Powfu                death bed (coffee for your head)    -8.765\n",
       "8   Trevor Daniel                                         Falling    -8.756\n",
       "15          Drake                                    Toosie Slide    -8.820\n",
       "20      Jawsh 685                Savage Love (Laxed - Siren Beat)    -8.520\n",
       "24  Billie Eilish                             everything i wanted   -14.454\n",
       "26  Billie Eilish                                         bad guy   -10.965\n",
       "36   Travis Scott                             HIGHEST IN THE ROOM    -8.764\n",
       "44  Billie Eilish                            lovely (with Khalid)   -10.109\n",
       "47        JP Saxe  If the World Was Ending - feat. Julia Michaels   -10.086"
      ]
     },
     "execution_count": 602,
     "metadata": {},
     "output_type": "execute_result"
    }
   ],
   "source": [
    "quieter_track = df[df['loudness'] < -8]\n",
    "quieter_track = quieter_track[['artist', 'track_name', 'loudness']]\n",
    "print(f\"In dataset are {len(quieter_track)} tracks with a loudness below -8\")\n",
    "quieter_track"
   ]
  },
  {
   "cell_type": "markdown",
   "id": "03f48ea3-6680-4388-a066-cf7c9a761065",
   "metadata": {},
   "source": [
    "*Note:* Based on the analysis of the most popular artist above, it is interesting to note that all three Billie Eilish songs fall into the list of quieter tracks. This observation suggests that her music resonates with listeners not through high volume or intensity but through its softer, more subtle sound."
   ]
  },
  {
   "cell_type": "markdown",
   "id": "a39c8b32-d7b8-45ca-8d0e-780e125e9c5a",
   "metadata": {},
   "source": [
    "**Which track is the longest?**"
   ]
  },
  {
   "cell_type": "code",
   "execution_count": 683,
   "id": "4058ce30-b432-414a-847c-a4ca3c6578e5",
   "metadata": {},
   "outputs": [
    {
     "data": {
      "text/html": [
       "<div>\n",
       "<style scoped>\n",
       "    .dataframe tbody tr th:only-of-type {\n",
       "        vertical-align: middle;\n",
       "    }\n",
       "\n",
       "    .dataframe tbody tr th {\n",
       "        vertical-align: top;\n",
       "    }\n",
       "\n",
       "    .dataframe thead th {\n",
       "        text-align: right;\n",
       "    }\n",
       "</style>\n",
       "<table border=\"1\" class=\"dataframe\">\n",
       "  <thead>\n",
       "    <tr style=\"text-align: right;\">\n",
       "      <th></th>\n",
       "      <th>artist</th>\n",
       "      <th>track_name</th>\n",
       "      <th>duration_ms</th>\n",
       "      <th>formatted_duration</th>\n",
       "    </tr>\n",
       "  </thead>\n",
       "  <tbody>\n",
       "    <tr>\n",
       "      <th>49</th>\n",
       "      <td>Travis Scott</td>\n",
       "      <td>SICKO MODE</td>\n",
       "      <td>312820</td>\n",
       "      <td>5 min 12 sec</td>\n",
       "    </tr>\n",
       "  </tbody>\n",
       "</table>\n",
       "</div>"
      ],
      "text/plain": [
       "          artist  track_name  duration_ms formatted_duration\n",
       "49  Travis Scott  SICKO MODE       312820       5 min 12 sec"
      ]
     },
     "execution_count": 683,
     "metadata": {},
     "output_type": "execute_result"
    }
   ],
   "source": [
    "long_track = df[df['duration_ms'] == df['duration_ms'].max()].copy()\n",
    "long_track['duration_minutes'] = (long_track['duration_ms'] // 60000).astype(int)\n",
    "long_track['duration_seconds'] = ((long_track['duration_ms'] % 60000) // 1000).astype(int)\n",
    "\n",
    "long_track['formatted_duration'] = (\n",
    "    long_track['duration_minutes'].astype(str) + \" min \" +\n",
    "    long_track['duration_seconds'].astype(str) + \" sec\"\n",
    ")\n",
    "long_track = long_track[['artist', 'track_name', 'duration_ms', 'formatted_duration']]\n",
    "long_track"
   ]
  },
  {
   "cell_type": "markdown",
   "id": "76031b0f-51ac-46d2-871a-6f118676b467",
   "metadata": {},
   "source": [
    "**Which track is the shortest?**"
   ]
  },
  {
   "cell_type": "code",
   "execution_count": 687,
   "id": "1770bbe5-e58c-4bb6-92bd-a0e3a5600703",
   "metadata": {},
   "outputs": [
    {
     "data": {
      "text/html": [
       "<div>\n",
       "<style scoped>\n",
       "    .dataframe tbody tr th:only-of-type {\n",
       "        vertical-align: middle;\n",
       "    }\n",
       "\n",
       "    .dataframe tbody tr th {\n",
       "        vertical-align: top;\n",
       "    }\n",
       "\n",
       "    .dataframe thead th {\n",
       "        text-align: right;\n",
       "    }\n",
       "</style>\n",
       "<table border=\"1\" class=\"dataframe\">\n",
       "  <thead>\n",
       "    <tr style=\"text-align: right;\">\n",
       "      <th></th>\n",
       "      <th>artist</th>\n",
       "      <th>track_name</th>\n",
       "      <th>duration_ms</th>\n",
       "      <th>formatted_duration</th>\n",
       "    </tr>\n",
       "  </thead>\n",
       "  <tbody>\n",
       "    <tr>\n",
       "      <th>23</th>\n",
       "      <td>24kGoldn</td>\n",
       "      <td>Mood (feat. iann dior)</td>\n",
       "      <td>140526</td>\n",
       "      <td>2 min 20 sec</td>\n",
       "    </tr>\n",
       "  </tbody>\n",
       "</table>\n",
       "</div>"
      ],
      "text/plain": [
       "      artist              track_name  duration_ms formatted_duration\n",
       "23  24kGoldn  Mood (feat. iann dior)       140526       2 min 20 sec"
      ]
     },
     "execution_count": 687,
     "metadata": {},
     "output_type": "execute_result"
    }
   ],
   "source": [
    "short_track = df[df['duration_ms'] == df['duration_ms'].min()].copy()\n",
    "short_track['duration_minutes'] = (short_track['duration_ms'] // 60000).astype(int)\n",
    "short_track['duration_seconds'] = ((short_track['duration_ms'] % 60000) // 1000).astype(int)\n",
    "\n",
    "short_track['formatted_duration'] = (\n",
    "    short_track['duration_minutes'].astype(str) + \" min \" +\n",
    "    short_track['duration_seconds'].astype(str) + \" sec\"\n",
    ")\n",
    "short_track = short_track[['artist', 'track_name', 'duration_ms', 'formatted_duration']]\n",
    "short_track"
   ]
  },
  {
   "cell_type": "markdown",
   "id": "19b2f2d0-e023-4e8e-a3c2-8d606e8d1629",
   "metadata": {},
   "source": [
    "*Note:* By comparing the shortest and longest tracks in the Top list, the nearly 3-minute difference highlights the significant variability in listeners' preferences. The difference in duration could be a reflection of various factors, such as genre, mood, or the context in which the music is being consumed."
   ]
  },
  {
   "cell_type": "markdown",
   "id": "132c075f-e39c-483f-a92c-6a3cd266b23c",
   "metadata": {},
   "source": [
    "**Which genre is the most popular?**"
   ]
  },
  {
   "cell_type": "code",
   "execution_count": 377,
   "id": "a039955a-cedc-46ad-b9f9-9d11a27f71fe",
   "metadata": {},
   "outputs": [
    {
     "name": "stdout",
     "output_type": "stream",
     "text": [
      "The most popular genre: Pop\n"
     ]
    }
   ],
   "source": [
    "popular_genre = df.genre.value_counts()\n",
    "print(f\"The most popular genre: {popular_genre.index[0]}\")\n"
   ]
  },
  {
   "cell_type": "markdown",
   "id": "1d2ecdb5-4a51-4dde-89b5-16c462f1de14",
   "metadata": {},
   "source": [
    "**Which genres have just one song on the top 50?**"
   ]
  },
  {
   "cell_type": "code",
   "execution_count": 380,
   "id": "c653ddef-1bef-4a64-b1cf-5a9accedd580",
   "metadata": {},
   "outputs": [
    {
     "name": "stdout",
     "output_type": "stream",
     "text": [
      "The most popular genre:\n",
      "genre\n",
      "R&B/Hip-Hop alternative               1\n",
      "Nu-disco                              1\n",
      "Pop/Soft Rock                         1\n",
      "Pop rap                               1\n",
      "Hip-Hop/Trap                          1\n",
      "Dance-pop/Disco                       1\n",
      "Disco-pop                             1\n",
      "Dreampop/Hip-Hop/R&B                  1\n",
      "Alternative/reggaeton/experimental    1\n",
      "Chamber pop                           1\n",
      "Name: count, dtype: int64\n"
     ]
    }
   ],
   "source": [
    "unpopular_genre = df.genre.value_counts()\n",
    "least_pop_genre = unpopular_genre[unpopular_genre == 1]\n",
    "print(f\"The most popular genre:\")\n",
    "print(least_pop_genre)"
   ]
  },
  {
   "cell_type": "markdown",
   "id": "4e3c70d3-5535-4c18-90d8-c78eedab559a",
   "metadata": {},
   "source": [
    "**How many genres in total are represented in the top 50?**"
   ]
  },
  {
   "cell_type": "code",
   "execution_count": 383,
   "id": "4fc5ef71-bd7d-4717-a598-7bace1e87b90",
   "metadata": {},
   "outputs": [
    {
     "name": "stdout",
     "output_type": "stream",
     "text": [
      "There are 16 genres in total\n"
     ]
    }
   ],
   "source": [
    "tot_genres = df.genre.value_counts()\n",
    "print(f\"There are {len(tot_genres)} genres in total\")"
   ]
  },
  {
   "cell_type": "markdown",
   "id": "a373fc9d-5858-434a-b80c-b4175a6cdf7c",
   "metadata": {},
   "source": [
    "**Which features are strongly positively correlated?**"
   ]
  },
  {
   "cell_type": "code",
   "execution_count": 638,
   "id": "4c9c3368-84b1-46af-afb4-8b2cae33159c",
   "metadata": {},
   "outputs": [
    {
     "name": "stdout",
     "output_type": "stream",
     "text": [
      "   Feature 1 Feature 2  Correlation\n",
      "3     energy  loudness      0.79164\n",
      "33  loudness    energy      0.79164\n"
     ]
    }
   ],
   "source": [
    "numeric_df = df.select_dtypes(include=['number'])\n",
    "correlation_matrix = numeric_df.corr()\n",
    "correlation_long = correlation_matrix.stack().reset_index()\n",
    "correlation_long.columns = ['Feature 1', 'Feature 2', 'Correlation']\n",
    "pos_corr = correlation_long[(correlation_long['Correlation'] > 0.7) & (correlation_long['Correlation'] < 1)]\n",
    "print(pos_corr)\n"
   ]
  },
  {
   "cell_type": "markdown",
   "id": "2a126074-f546-484f-990d-a96a80a921f2",
   "metadata": {},
   "source": [
    "*Note:* The corr() method calculates the relationship between each column in data set.  It is expressed as a value between -1 and 1. \n",
    "Strong positive correlation: Values close to +1. Meaning that tracks with higher energy tend to have higher loudness."
   ]
  },
  {
   "cell_type": "markdown",
   "id": "6075070a-22d1-48f2-8302-cdefa15e2583",
   "metadata": {},
   "source": [
    "**Which features are strongly negatively correlated?**"
   ]
  },
  {
   "cell_type": "code",
   "execution_count": 643,
   "id": "3f0b08e5-54ad-4159-94f6-52c460ab2e3c",
   "metadata": {},
   "outputs": [
    {
     "name": "stdout",
     "output_type": "stream",
     "text": [
      "Empty DataFrame\n",
      "Columns: [Feature 1, Feature 2, Correlation]\n",
      "Index: []\n"
     ]
    }
   ],
   "source": [
    "numeric_df = df.select_dtypes(include=['number'])\n",
    "correlation_matrix = numeric_df.corr()\n",
    "correlation_long = correlation_matrix.stack().reset_index()\n",
    "correlation_long.columns = ['Feature 1', 'Feature 2', 'Correlation']\n",
    "pos_corr = correlation_long[(correlation_long['Correlation'] < -0.7) & (correlation_long['Correlation'] > -1)]\n",
    "print(pos_corr)"
   ]
  },
  {
   "cell_type": "markdown",
   "id": "f83951b3-9ced-4125-8730-cf092ac698a6",
   "metadata": {},
   "source": [
    "*Note:* Strong negative correlation: Values close to -1. Empty table means that no negatively correlated features are in dataset."
   ]
  },
  {
   "cell_type": "markdown",
   "id": "77f0dee1-8560-48f0-bf70-c90197b25762",
   "metadata": {},
   "source": [
    "**Which features are not correlated?**"
   ]
  },
  {
   "cell_type": "code",
   "execution_count": 645,
   "id": "882e7b01-3757-412b-bde6-d0a7dc7781e3",
   "metadata": {},
   "outputs": [
    {
     "name": "stdout",
     "output_type": "stream",
     "text": [
      "            Feature 1         Feature 2  Correlation\n",
      "2              energy               key     0.062428\n",
      "5              energy       speechiness     0.074267\n",
      "7              energy          liveness     0.069487\n",
      "9              energy             tempo     0.075191\n",
      "10             energy       duration_ms     0.081971\n",
      "17       danceability  instrumentalness    -0.017706\n",
      "18       danceability          liveness    -0.006648\n",
      "21       danceability       duration_ms    -0.033763\n",
      "22                key            energy     0.062428\n",
      "25                key          loudness    -0.009178\n",
      "27                key       speechiness    -0.094965\n",
      "28                key  instrumentalness     0.020802\n",
      "31                key             tempo     0.080475\n",
      "32                key       duration_ms    -0.003345\n",
      "35           loudness               key    -0.009178\n",
      "38           loudness       speechiness    -0.021693\n",
      "40           loudness          liveness    -0.069939\n",
      "43           loudness       duration_ms     0.064130\n",
      "54       acousticness       duration_ms    -0.010988\n",
      "55        speechiness            energy     0.074267\n",
      "57        speechiness               key    -0.094965\n",
      "58        speechiness          loudness    -0.021693\n",
      "61        speechiness  instrumentalness     0.028948\n",
      "63        speechiness           valence     0.053867\n",
      "67   instrumentalness      danceability    -0.017706\n",
      "68   instrumentalness               key     0.020802\n",
      "71   instrumentalness       speechiness     0.028948\n",
      "73   instrumentalness          liveness    -0.087034\n",
      "75   instrumentalness             tempo     0.018853\n",
      "77           liveness            energy     0.069487\n",
      "78           liveness      danceability    -0.006648\n",
      "80           liveness          loudness    -0.069939\n",
      "83           liveness  instrumentalness    -0.087034\n",
      "85           liveness           valence    -0.033366\n",
      "86           liveness             tempo     0.025457\n",
      "87           liveness       duration_ms    -0.090188\n",
      "93            valence       speechiness     0.053867\n",
      "95            valence          liveness    -0.033366\n",
      "97            valence             tempo     0.045089\n",
      "98            valence       duration_ms    -0.039794\n",
      "99              tempo            energy     0.075191\n",
      "101             tempo               key     0.080475\n",
      "105             tempo  instrumentalness     0.018853\n",
      "106             tempo          liveness     0.025457\n",
      "107             tempo           valence     0.045089\n",
      "110       duration_ms            energy     0.081971\n",
      "111       duration_ms      danceability    -0.033763\n",
      "112       duration_ms               key    -0.003345\n",
      "113       duration_ms          loudness     0.064130\n",
      "114       duration_ms      acousticness    -0.010988\n",
      "117       duration_ms          liveness    -0.090188\n",
      "118       duration_ms           valence    -0.039794\n"
     ]
    }
   ],
   "source": [
    "numeric_df = df.select_dtypes(include=['number'])\n",
    "correlation_matrix = numeric_df.corr()\n",
    "correlation_long = correlation_matrix.stack().reset_index()\n",
    "correlation_long.columns = ['Feature 1', 'Feature 2', 'Correlation']\n",
    "pos_corr = correlation_long[(correlation_long['Correlation'] > -0.1) & (correlation_long['Correlation'] < 0.1)]\n",
    "print(pos_corr)"
   ]
  },
  {
   "cell_type": "markdown",
   "id": "eeba78d3-389c-4ac3-8ca4-783c91f44871",
   "metadata": {},
   "source": [
    "*Note:* Values between -0.1 and 0.1 (closely to 0) represent weak or no correlation."
   ]
  },
  {
   "cell_type": "markdown",
   "id": "2a53c445-7366-441b-9fe6-a793305f0f22",
   "metadata": {},
   "source": [
    "**How does the danceability score compare between Pop, Hip-Hop/Rap, Dance/Electronic, and Alternative/Indie genres?**"
   ]
  },
  {
   "cell_type": "code",
   "execution_count": 69,
   "id": "b6277aa1-2b8c-4722-9ead-03f4dace0f7a",
   "metadata": {},
   "outputs": [
    {
     "name": "stdout",
     "output_type": "stream",
     "text": [
      "genre\n",
      "Dance/Electronic     0.785\n",
      "Hip-Hop/Rap          0.774\n",
      "Pop                  0.690\n",
      "Alternative/Indie    0.663\n",
      "Name: danceability, dtype: float64\n"
     ]
    }
   ],
   "source": [
    "selected_genres = ['Pop', 'Hip-Hop/Rap', 'Dance/Electronic', 'Alternative/Indie']\n",
    "filtered_df = df[df['genre'].isin(selected_genres)]\n",
    "genre_danceability = filtered_df.groupby('genre')['danceability'].median()\n",
    "sorted_genre_danceability = genre_danceability.sort_values(ascending=False)\n",
    "print(sorted_genre_danceability)"
   ]
  },
  {
   "cell_type": "markdown",
   "id": "759589f1-c900-483e-aae3-92c144ff7afb",
   "metadata": {},
   "source": [
    "*Note:* because danceability has outliers (3 out of 50 or 6%) , it is chosen to use median function. Median represents the middle value of the dataset when sorted, and outliers do not affect it as much as the mean. Not surprisingly, Dance/Electronic genre tend to have highest danceability score among all genres."
   ]
  },
  {
   "cell_type": "markdown",
   "id": "609ca18a-6743-4ea7-9774-4fbd8eeb2fd7",
   "metadata": {},
   "source": [
    "**How does the loudness score compare between Pop, Hip-Hop/Rap, Dance/Electronic, and Alternative/Indie genres?**"
   ]
  },
  {
   "cell_type": "code",
   "execution_count": 71,
   "id": "044f52b4-49c0-41ef-8441-9f50d4b1dd2d",
   "metadata": {},
   "outputs": [
    {
     "name": "stdout",
     "output_type": "stream",
     "text": [
      "genre\n",
      "Alternative/Indie   -5.2685\n",
      "Dance/Electronic    -5.4570\n",
      "Pop                 -6.6445\n",
      "Hip-Hop/Rap         -7.6480\n",
      "Name: loudness, dtype: float64\n"
     ]
    }
   ],
   "source": [
    "selected_genres = ['Pop', 'Hip-Hop/Rap', 'Dance/Electronic', 'Alternative/Indie']\n",
    "filtered_df = df[df['genre'].isin(selected_genres)]\n",
    "genre_danceability = filtered_df.groupby('genre')['loudness'].median()\n",
    "sorted_genre_danceability = genre_danceability.sort_values(ascending=False)\n",
    "print(sorted_genre_danceability)"
   ]
  },
  {
   "cell_type": "markdown",
   "id": "4a5016f6-860c-43f0-8469-1338f859bf8f",
   "metadata": {},
   "source": [
    "*Note:* same as danceability, loudness has outliers (1 out of 50 or 2%) , it is chosen to use median function. Alternative/Indie and Dance/Electronic stand out with the highest loudness values, at around -5 dB, indicating a preference for more dynamic and impactful sound. "
   ]
  },
  {
   "cell_type": "markdown",
   "id": "b35d5397-cf2b-447b-a749-dba918c9d791",
   "metadata": {},
   "source": [
    "**How does the acousticness score compare between Pop, Hip-Hop/Rap, Dance/Electronic, and Alternative/Indie genres?**"
   ]
  },
  {
   "cell_type": "code",
   "execution_count": 73,
   "id": "f91bd34f-9bbf-47aa-b09f-1d4d264c185d",
   "metadata": {},
   "outputs": [
    {
     "name": "stdout",
     "output_type": "stream",
     "text": [
      "genre\n",
      "Alternative/Indie    0.6460\n",
      "Pop                  0.2590\n",
      "Hip-Hop/Rap          0.1450\n",
      "Dance/Electronic     0.0686\n",
      "Name: acousticness, dtype: float64\n"
     ]
    }
   ],
   "source": [
    "selected_genres = ['Pop', 'Hip-Hop/Rap', 'Dance/Electronic', 'Alternative/Indie']\n",
    "filtered_df = df[df['genre'].isin(selected_genres)]\n",
    "genre_danceability = filtered_df.groupby('genre')['acousticness'].median()\n",
    "sorted_genre_danceability = genre_danceability.sort_values(ascending=False)\n",
    "print(sorted_genre_danceability)"
   ]
  },
  {
   "cell_type": "markdown",
   "id": "34c62af7-abd9-4440-86e0-e2d036b78dae",
   "metadata": {},
   "source": [
    "*Note:* same as danceability, loudness has outliers (7 out of 50 or 14%) , it is chosen to use median function. Alternative/Indie has the highest average acousticness value at 0.64, suggesting a preference for more acoustic and less electronic-based sounds in this genre. In contrast, Dance/Electronic has the lowest value at 0.06, indicating a heavier reliance on electronic elements in its music. "
   ]
  },
  {
   "cell_type": "markdown",
   "id": "49b936e7-b653-44db-9a84-8ff411e102f5",
   "metadata": {},
   "source": [
    "### 📝 Conclusion"
   ]
  },
  {
   "cell_type": "markdown",
   "id": "ccd738f0-3eb2-4a03-9a15-d00d67c3595e",
   "metadata": {},
   "source": [
    "**Key Quantified Characteristics of Hit Songs:**\n",
    "- Danceability ≥ 0.7 (64% of top tracks)\n",
    "- Loudness > -5 dB (38% of top tracks)\n",
    "- Energy + Danceability correlation (Energetic tracks tend to have higher loudness)\n",
    "- Track Duration between 3-5 minutes: Optimal for engagement and repeatability.\n",
    "\n",
    "**Genre Preferences:**\n",
    "- Dance/Electronic: Highest danceability and loudness\n",
    "- Alternative/Indie: Higher acousticness for a more organic sound\n",
    "\n",
    "These factors combined suggest that a hit song is typically one that is energetic, easy to dance to, and has a volume that catches attention, all while fitting within genre-specific preferences."
   ]
  },
  {
   "cell_type": "markdown",
   "id": "6ca972df-c485-4642-b05c-95d79e213d5b",
   "metadata": {},
   "source": [
    "### 💡 Suggestions for analysis improvement"
   ]
  },
  {
   "cell_type": "markdown",
   "id": "3fbe2ef3-6633-48a6-b089-3e732695acf3",
   "metadata": {},
   "source": [
    "* Import data from other years Top list and compare analysis results how listeners choises changes during the years.\n",
    "* Implement demografic category for geografical comparison.\n",
    "* Remove outliers from data set and compare how results changed.\n",
    "* Add visualizations to analysis ot improve readability."
   ]
  },
  {
   "cell_type": "code",
   "execution_count": null,
   "id": "f3a06943-d89b-4a60-94e1-13132496cd91",
   "metadata": {},
   "outputs": [],
   "source": []
  }
 ],
 "metadata": {
  "kernelspec": {
   "display_name": "example",
   "language": "python",
   "name": "example"
  },
  "language_info": {
   "codemirror_mode": {
    "name": "ipython",
    "version": 3
   },
   "file_extension": ".py",
   "mimetype": "text/x-python",
   "name": "python",
   "nbconvert_exporter": "python",
   "pygments_lexer": "ipython3",
   "version": "3.12.8"
  }
 },
 "nbformat": 4,
 "nbformat_minor": 5
}
